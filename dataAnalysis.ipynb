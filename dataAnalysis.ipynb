{
 "cells": [
  {
   "cell_type": "code",
   "execution_count": null,
   "metadata": {},
   "outputs": [],
   "source": [
    "import paths\n",
    "from utils import *\n",
    "\n",
    "from models.DeepLabTL import *\n",
    "from models.DeepLabResNet50 import *\n",
    "from models.DeepLabResNet101 import *\n",
    "from models.DeepLabMobileNet import *\n",
    "from models.ResNet import *\n",
    "\n",
    "\n",
    "import matplotlib.pyplot as plt\n",
    "import pandas as pd\n",
    "import os\n",
    "import random\n",
    "import cv2\n",
    "import numpy as np\n",
    "\n",
    "from configparser import ConfigParser\n",
    "import configparser\n",
    "from sklearn.metrics import accuracy_score, balanced_accuracy_score, confusion_matrix, f1_score, roc_auc_score\n",
    "from collections import defaultdict\n",
    "from pathlib import Path\n",
    "from typing import Any, Callable, Optional\n",
    "from PIL import Image\n",
    "import shutil\n",
    "import copy\n",
    "import csv\n",
    "import time\n",
    "from tqdm import tqdm\n",
    "\n",
    "import torch\n",
    "import torch.nn as nn\n",
    "from torch.utils import data\n",
    "import torch.optim as optim\n",
    "import torchvision.transforms as T\n",
    "from torchvision import datasets\n",
    "from torchvision.datasets import ImageFolder\n",
    "from torch.utils.data import WeightedRandomSampler\n",
    "from torch.utils.data import DataLoader, random_split, Dataset\n",
    "from torchvision.datasets.vision import VisionDataset\n",
    "from torchvision.models.segmentation.deeplabv3 import DeepLabHead\n",
    "from torchvision import models\n",
    "import torch.nn.functional as F"
   ]
  },
  {
   "cell_type": "code",
   "execution_count": null,
   "metadata": {},
   "outputs": [],
   "source": [
    "train_df = pd.read_csv(paths.train_path)\n",
    "meta_df = pd.read_csv(paths.meta_path)\n",
    "test_df = pd.read_csv(paths.test_path)"
   ]
  },
  {
   "cell_type": "code",
   "execution_count": null,
   "metadata": {},
   "outputs": [],
   "source": [
    "new_train = extract_20_classes(paths.train_folder)\n",
    "new_train = '/content/Train/new_dataset/Train'"
   ]
  },
  {
   "cell_type": "code",
   "execution_count": null,
   "metadata": {},
   "outputs": [],
   "source": [
    "# creating new csv files\n",
    "meta_csv = filter_and_create_csv(paths.meta_path, 'Meta.csv')\n",
    "test_csv = filter_and_create_csv(paths.test_path, 'Test.csv')\n",
    "train_csv = filter_and_create_csv(paths.train_path, 'Train.csv')"
   ]
  },
  {
   "cell_type": "code",
   "execution_count": null,
   "metadata": {},
   "outputs": [],
   "source": [
    "# reading csv files using pandas library\n",
    "read_meta_csv = pd.read_csv(meta_csv)\n",
    "read_test_csv = pd.read_csv(test_csv)\n",
    "read_train_csv = pd.read_csv(train_csv)"
   ]
  },
  {
   "cell_type": "code",
   "execution_count": null,
   "metadata": {},
   "outputs": [],
   "source": [
    "# Acessing classId column inside csv files\n",
    "class_counts_Test = read_test_csv['ClassId'].value_counts()\n",
    "class_counts_Train = read_train_csv['ClassId'].value_counts()\n",
    "class_counts_Meta = read_meta_csv['ClassId'].value_counts()\n",
    "\n",
    "class_counts_Meta = class_counts_Meta.sort_index()\n",
    "class_counts_Train = class_counts_Train.sort_index()\n",
    "class_counts_Test = class_counts_Test.sort_index()\n",
    "\n",
    "# Create a figure with three subplots\n",
    "fig, axs = plt.subplots(1, 3, figsize=(15, 5))\n",
    "\n",
    "# Plotting for 'Meta' dataset\n",
    "axs[0].bar(class_counts_Meta.index.astype(int),\n",
    "           class_counts_Meta.values, color='blue')\n",
    "axs[0].set_title('Meta Dataset')\n",
    "axs[0].set_xlabel('Class Labels')\n",
    "axs[0].set_ylabel('Number of Samples')\n",
    "\n",
    "# Plotting for 'Train' dataset\n",
    "axs[1].bar(class_counts_Train.index.astype(int), class_counts_Train.values)\n",
    "axs[1].set_title('Train Dataset')\n",
    "axs[1].set_xlabel('Class Labels')\n",
    "axs[1].set_ylabel('Number of Samples')\n",
    "\n",
    "# Plotting for 'Test' dataset\n",
    "axs[2].bar(class_counts_Test.index.astype(int), class_counts_Test.values)\n",
    "axs[2].set_title('Test Dataset')\n",
    "axs[2].set_xlabel('Class Labels')\n",
    "axs[2].set_ylabel('Number of Samples')\n",
    "\n",
    "axs[0].bar(class_counts_Meta.index.astype(int), class_counts_Meta.values)\n",
    "axs[0].set_title('Meta Dataset')\n",
    "axs[0].set_xlabel('Class Labels')\n",
    "axs[0].set_ylabel('Number of Samples')\n",
    "\n",
    "custom_ticks = [i for i in range(0, len(class_counts_Meta.index), 1)]\n",
    "custom_labels = [str(i) for i in custom_ticks]\n",
    "plt.tight_layout()\n",
    "plt.show()"
   ]
  }
 ],
 "metadata": {
  "kernelspec": {
   "display_name": "v_DEEP",
   "language": "python",
   "name": "python3"
  },
  "language_info": {
   "name": "python",
   "version": "3.12.2"
  }
 },
 "nbformat": 4,
 "nbformat_minor": 2
}
