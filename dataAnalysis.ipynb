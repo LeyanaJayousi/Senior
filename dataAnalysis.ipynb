{
 "cells": [
  {
   "cell_type": "code",
   "execution_count": null,
   "metadata": {},
   "outputs": [],
   "source": [
    "!bash ./download_dataset.sh"
   ]
  },
  {
   "cell_type": "code",
   "execution_count": null,
   "metadata": {},
   "outputs": [],
   "source": [
    "import paths\n",
    "from utils import *\n",
    "import matplotlib.pyplot as plt\n",
    "import pandas as pd\n",
    "import os"
   ]
  },
  {
   "cell_type": "code",
   "execution_count": null,
   "metadata": {},
   "outputs": [],
   "source": [
    "# Extracting first 20 classes\n",
    "new_train = process_data(paths.train_folder)\n",
    "meta_csv = process_data(paths.meta_path)\n",
    "test_csv = process_data(paths.test_path)\n",
    "train_csv = process_data(paths.train_path)"
   ]
  },
  {
   "cell_type": "code",
   "execution_count": null,
   "metadata": {},
   "outputs": [],
   "source": [
    "# reading csv files using pandas library\n",
    "read_meta_csv = pd.read_csv(meta_csv)\n",
    "read_test_csv = pd.read_csv(test_csv)\n",
    "read_train_csv = pd.read_csv(train_csv)"
   ]
  },
  {
   "cell_type": "code",
   "execution_count": null,
   "metadata": {},
   "outputs": [],
   "source": [
    "def create_plot():\n",
    "    \"\"\"\n",
    "    Creates a plot showing the distribution of ClassIds in Test, Train, and Meta datasets.\n",
    "    \"\"\"\n",
    "    # Accessing ClassId column inside CSV files\n",
    "    class_counts_Test = read_test_csv['ClassId'].value_counts()\n",
    "    class_counts_Train = read_train_csv['ClassId'].value_counts()\n",
    "    class_counts_Meta = read_meta_csv['ClassId'].value_counts()\n",
    "\n",
    "    class_counts_Meta = class_counts_Meta.sort_index()\n",
    "    class_counts_Train = class_counts_Train.sort_index()\n",
    "    class_counts_Test = class_counts_Test.sort_index()\n",
    "\n",
    "    # Create a figure with three subplots\n",
    "    fig, axs = plt.subplots(1, 3, figsize=(15, 5))\n",
    "\n",
    "    # Plotting for 'Meta' dataset\n",
    "    axs[0].bar(class_counts_Meta.index.astype(int), class_counts_Meta.values, color='blue')\n",
    "    axs[0].set_title('Meta Dataset')\n",
    "    axs[0].set_xlabel('Class Labels')\n",
    "    axs[0].set_ylabel('Number of Samples')\n",
    "\n",
    "    # Plotting for 'Train' dataset\n",
    "    axs[1].bar(class_counts_Train.index.astype(int), class_counts_Train.values)\n",
    "    axs[1].set_title('Train Dataset')\n",
    "    axs[1].set_xlabel('Class Labels')\n",
    "    axs[1].set_ylabel('Number of Samples')\n",
    "\n",
    "    # Plotting for 'Test' dataset\n",
    "    axs[2].bar(class_counts_Test.index.astype(int), class_counts_Test.values)\n",
    "    axs[2].set_title('Test Dataset')\n",
    "    axs[2].set_xlabel('Class Labels')\n",
    "    axs[2].set_ylabel('Number of Samples')\n",
    "\n",
    "    for ax in axs:\n",
    "        ax.set_xticks(range(0, max(class_counts_Meta.index.max(), \n",
    "                                   class_counts_Train.index.max(), \n",
    "                                   class_counts_Test.index.max()) + 1))\n",
    "\n",
    "    # Adjust layout\n",
    "    plt.tight_layout()\n",
    "\n",
    "    return fig"
   ]
  },
  {
   "cell_type": "code",
   "execution_count": null,
   "metadata": {},
   "outputs": [],
   "source": [
    "save_figures('figures', create_plot, 'class_distribution')"
   ]
  }
 ],
 "metadata": {
  "kernelspec": {
   "display_name": "v_DEEP",
   "language": "python",
   "name": "python3"
  },
  "language_info": {
   "name": "python",
   "version": "3.12.2"
  }
 },
 "nbformat": 4,
 "nbformat_minor": 2
}
